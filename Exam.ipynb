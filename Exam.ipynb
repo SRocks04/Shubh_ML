{
 "cells": [
  {
   "cell_type": "markdown",
   "metadata": {},
   "source": [
    "### Question1\n",
    "Multiplication of a (n,k) and (k,m) matrix results in a (n,m) matrix where to obtain any (i,j)<sub>th</sub> element involves multiplication of each element in i<sub>th</sub> row of first matrix with corressponding element in j<sub>th</sub> column in second matrix and summing the obtained numbers. Now the number of multiplications for generating each element become k and number of additions (k-1). For n × m elements in the resultant matrix, number of multiplications are n × m × k, while additions are n × m × (k-1)"
   ]
  },
  {
   "cell_type": "markdown",
   "metadata": {},
   "source": [
    "### Question 2"
   ]
  },
  {
   "cell_type": "code",
   "execution_count": 10,
   "metadata": {},
   "outputs": [
    {
     "name": "stdout",
     "output_type": "stream",
     "text": [
      "Multiplication of 2 randomly generated matrices taking place\n",
      "Time taken by list of lists is:  7.843833923339844\n",
      "Time taken by numpy matrices is:  0.0077610015869140625\n"
     ]
    }
   ],
   "source": [
    "# Using 200 × 200 matrices for this test of speed\n",
    "from random import randint\n",
    "import time\n",
    "import numpy as np\n",
    "a = [[randint(0,10) for i in range(200)] for j in range(200)]   #randomly generating 200 × 200 matrices filled with integers between 0 and 10, both inclusive\n",
    "b = [[randint(0,10) for i in range(200)] for j in range(200)]\n",
    "c = [[0 for i in range(200)] for j in range(200)]\n",
    "print(\"Multiplication of 2 randomly generated matrices taking place\")\n",
    "start = time.time()\n",
    "for i in range(200):\n",
    "    for j in range(200):\n",
    "        for k in range(200):\n",
    "            c[i][j] += (a[i][k] * b[k][j])\n",
    "end = time.time()\n",
    "print(\"Time taken by list of lists is: \",end - start)\n",
    "a = np.matrix(a)\n",
    "b = np.matrix(b)\n",
    "start = time.time()\n",
    "c = np.matmul(a,b)\n",
    "end = time.time()\n",
    "print(\"Time taken by numpy matrices is: \",end - start)"
   ]
  },
  {
   "cell_type": "markdown",
   "metadata": {},
   "source": [
    "The reason for numpy taking so litle time compared to one implemented manually is due to the fact that the numpy function at a lower level can take advantage of parallelization while computing all those multiplications before additions and computation of different cells happening simultaneously. This unlike the manual implementation seem the order seem lesser as we are not doing each step sequentially (in series) saving lots of time. Moreover, there are other reasons like python lists can contain variable datatypes which slows down our process by adding some checks on top of our code, whereas, numpy's matmul function takes advantage of homogeniety of numpy matrices."
   ]
  },
  {
   "cell_type": "markdown",
   "metadata": {},
   "source": [
    "### Question 3\n",
    "The suggested method is a $n^2$ approach while a better approach can be sorting the array and directly accessing the middle term. (Assuming an odd number of elements, median is in the array) The result of 1st method was not very comparable with other 2 methods, so had to make a seperate cell to run them. The function numpy.median is also of same order as our sorting approach."
   ]
  },
  {
   "cell_type": "code",
   "execution_count": 91,
   "metadata": {},
   "outputs": [
    {
     "name": "stdout",
     "output_type": "stream",
     "text": [
      "median is:  5  found in:  4.1254349 s found using method given\n"
     ]
    }
   ],
   "source": [
    "#assuming array of length 4001\n",
    "a = np.array([randint(0,10) for i in range(4001)])  #randomly generating array\n",
    "b = a                                               #making a copy so the swapping doesn't modify the actual array\n",
    "start = time.time_ns()\n",
    "for i in range(2001):\n",
    "    small = i\n",
    "    for j in range(i+1,4001):\n",
    "        if b[small]>b[j]:\n",
    "            small = j\n",
    "    b[i],b[small]=b[small],b[i]\n",
    "print(\"median is: \",b[2000],\" found in: \",(time.time_ns() - start)/1e9,\"s found using method given of O(n^2)\")"
   ]
  },
  {
   "cell_type": "code",
   "execution_count": 92,
   "metadata": {},
   "outputs": [
    {
     "name": "stdout",
     "output_type": "stream",
     "text": [
      "median is:  5 found in:  0.0044108 s found using sorting method\n",
      "median is:  5.0 found in:  0.0010799 s found using numpy\n"
     ]
    }
   ],
   "source": [
    "start = time.time_ns()\n",
    "b = sorted(a)\n",
    "print(\"median is: \",b[2000], \"found in: \",(time.time_ns() - start)/1e9,\"s found using sorting method O(nlog(n))\")\n",
    "start = time.time_ns()\n",
    "b = np.median(a)\n",
    "print(\"median is: \",b,\"found in: \",(time.time_ns() - start)/1e9,\"s found using numpy.median O(nlog(n))\")"
   ]
  },
  {
   "cell_type": "markdown",
   "metadata": {},
   "source": [
    "The method of computing median of an n length array using n/2 passes makes the process $O(n^2)$ which is evidently much worse then the using sorting to find the median, which makes the time complexity $O(nlog(n))$ which is roughly close to what is provided by numpy library's function numpy.median which is essentially of same big O time complexity. Therefore, it can be observed that even though performance of numpy function is still better than our implementation, atleast its of the same order and comparable."
   ]
  },
  {
   "cell_type": "markdown",
   "metadata": {},
   "source": [
    "### Question 4\n",
    "Gradient of $(x^2y + y^3sin(x))$ with respect to x is $(2xy + y^3cos(x))$, while with respect to y is $(x^2 + 3y^2sin(x))$"
   ]
  },
  {
   "cell_type": "code",
   "execution_count": 108,
   "metadata": {},
   "outputs": [
    {
     "ename": "AttributeError",
     "evalue": "partially initialized module 'jax' has no attribute 'version' (most likely due to a circular import)",
     "output_type": "error",
     "traceback": [
      "\u001b[1;31m---------------------------------------------------------------------------\u001b[0m",
      "\u001b[1;31mAttributeError\u001b[0m                            Traceback (most recent call last)",
      "Cell \u001b[1;32mIn[108], line 1\u001b[0m\n\u001b[1;32m----> 1\u001b[0m \u001b[39mimport\u001b[39;00m \u001b[39mjax\u001b[39;00m\u001b[39m.\u001b[39;00m\u001b[39mnumpy\u001b[39;00m \u001b[39mas\u001b[39;00m \u001b[39mjnp\u001b[39;00m\n\u001b[0;32m      2\u001b[0m \u001b[39mimport\u001b[39;00m \u001b[39mjax\u001b[39;00m\n",
      "File \u001b[1;32mc:\\Users\\singh\\AppData\\Local\\Programs\\Python\\Python311\\Lib\\site-packages\\jax\\__init__.py:39\u001b[0m\n\u001b[0;32m     34\u001b[0m \u001b[39mdel\u001b[39;00m _cloud_tpu_init\n\u001b[0;32m     36\u001b[0m \u001b[39m# Confusingly there are two things named \"config\": the module and the class.\u001b[39;00m\n\u001b[0;32m     37\u001b[0m \u001b[39m# We want the exported object to be the class, so we first import the module\u001b[39;00m\n\u001b[0;32m     38\u001b[0m \u001b[39m# to make sure a later import doesn't overwrite the class.\u001b[39;00m\n\u001b[1;32m---> 39\u001b[0m \u001b[39mfrom\u001b[39;00m \u001b[39mjax\u001b[39;00m \u001b[39mimport\u001b[39;00m config \u001b[39mas\u001b[39;00m _config_module\n\u001b[0;32m     40\u001b[0m \u001b[39mdel\u001b[39;00m _config_module\n\u001b[0;32m     42\u001b[0m \u001b[39m# Force early import, allowing use of `jax.core` after importing `jax`.\u001b[39;00m\n",
      "File \u001b[1;32mc:\\Users\\singh\\AppData\\Local\\Programs\\Python\\Python311\\Lib\\site-packages\\jax\\config.py:15\u001b[0m\n\u001b[0;32m      1\u001b[0m \u001b[39m# Copyright 2018 The JAX Authors.\u001b[39;00m\n\u001b[0;32m      2\u001b[0m \u001b[39m#\u001b[39;00m\n\u001b[0;32m      3\u001b[0m \u001b[39m# Licensed under the Apache License, Version 2.0 (the \"License\");\u001b[39;00m\n\u001b[1;32m   (...)\u001b[0m\n\u001b[0;32m     12\u001b[0m \u001b[39m# See the License for the specific language governing permissions and\u001b[39;00m\n\u001b[0;32m     13\u001b[0m \u001b[39m# limitations under the License.\u001b[39;00m\n\u001b[1;32m---> 15\u001b[0m \u001b[39mfrom\u001b[39;00m \u001b[39mjax\u001b[39;00m\u001b[39m.\u001b[39;00m\u001b[39m_src\u001b[39;00m\u001b[39m.\u001b[39;00m\u001b[39mconfig\u001b[39;00m \u001b[39mimport\u001b[39;00m config \u001b[39mas\u001b[39;00m _deprecated_config  \u001b[39m# noqa: F401\u001b[39;00m\n\u001b[0;32m     17\u001b[0m \u001b[39m# Deprecations\u001b[39;00m\n\u001b[0;32m     19\u001b[0m _deprecations \u001b[39m=\u001b[39m {\n\u001b[0;32m     20\u001b[0m     \u001b[39m# Added October 27, 2023\u001b[39;00m\n\u001b[0;32m     21\u001b[0m     \u001b[39m\"\u001b[39m\u001b[39mconfig\u001b[39m\u001b[39m\"\u001b[39m: (\n\u001b[0;32m     22\u001b[0m         \u001b[39m\"\u001b[39m\u001b[39mAccessing jax.config via the jax.config submodule is deprecated.\u001b[39m\u001b[39m\"\u001b[39m,\n\u001b[0;32m     23\u001b[0m         _deprecated_config),\n\u001b[0;32m     24\u001b[0m }\n",
      "File \u001b[1;32mc:\\Users\\singh\\AppData\\Local\\Programs\\Python\\Python311\\Lib\\site-packages\\jax\\_src\\config.py:28\u001b[0m\n\u001b[0;32m     25\u001b[0m \u001b[39mfrom\u001b[39;00m \u001b[39mtyping\u001b[39;00m \u001b[39mimport\u001b[39;00m Any, Callable, Generic, NamedTuple, NoReturn, TypeVar\n\u001b[0;32m     26\u001b[0m \u001b[39mimport\u001b[39;00m \u001b[39mwarnings\u001b[39;00m\n\u001b[1;32m---> 28\u001b[0m \u001b[39mfrom\u001b[39;00m \u001b[39mjax\u001b[39;00m\u001b[39m.\u001b[39;00m\u001b[39m_src\u001b[39;00m \u001b[39mimport\u001b[39;00m lib\n\u001b[0;32m     29\u001b[0m \u001b[39mfrom\u001b[39;00m \u001b[39mjax\u001b[39;00m\u001b[39m.\u001b[39;00m\u001b[39m_src\u001b[39;00m\u001b[39m.\u001b[39;00m\u001b[39mlib\u001b[39;00m \u001b[39mimport\u001b[39;00m jax_jit\n\u001b[0;32m     30\u001b[0m \u001b[39mfrom\u001b[39;00m \u001b[39mjax\u001b[39;00m\u001b[39m.\u001b[39;00m\u001b[39m_src\u001b[39;00m\u001b[39m.\u001b[39;00m\u001b[39mlib\u001b[39;00m \u001b[39mimport\u001b[39;00m transfer_guard_lib\n",
      "File \u001b[1;32mc:\\Users\\singh\\AppData\\Local\\Programs\\Python\\Python311\\Lib\\site-packages\\jax\\_src\\lib\\__init__.py:75\u001b[0m\n\u001b[0;32m     70\u001b[0m   \u001b[39mreturn\u001b[39;00m _jaxlib_version\n\u001b[0;32m     73\u001b[0m version_str \u001b[39m=\u001b[39m jaxlib\u001b[39m.\u001b[39mversion\u001b[39m.\u001b[39m__version__\n\u001b[0;32m     74\u001b[0m version \u001b[39m=\u001b[39m check_jaxlib_version(\n\u001b[1;32m---> 75\u001b[0m   jax_version\u001b[39m=\u001b[39mjax\u001b[39m.\u001b[39;49mversion\u001b[39m.\u001b[39m__version__,\n\u001b[0;32m     76\u001b[0m   jaxlib_version\u001b[39m=\u001b[39mjaxlib\u001b[39m.\u001b[39mversion\u001b[39m.\u001b[39m__version__,\n\u001b[0;32m     77\u001b[0m   minimum_jaxlib_version\u001b[39m=\u001b[39mjax\u001b[39m.\u001b[39mversion\u001b[39m.\u001b[39m_minimum_jaxlib_version)\n\u001b[0;32m     79\u001b[0m \u001b[39m# Before importing any C compiled modules from jaxlib, first import the CPU\u001b[39;00m\n\u001b[0;32m     80\u001b[0m \u001b[39m# feature guard module to verify that jaxlib was compiled in a way that only\u001b[39;00m\n\u001b[0;32m     81\u001b[0m \u001b[39m# uses instructions that are present on this machine.\u001b[39;00m\n\u001b[0;32m     82\u001b[0m \u001b[39mimport\u001b[39;00m \u001b[39mjaxlib\u001b[39;00m\u001b[39m.\u001b[39;00m\u001b[39mcpu_feature_guard\u001b[39;00m \u001b[39mas\u001b[39;00m \u001b[39mcpu_feature_guard\u001b[39;00m\n",
      "\u001b[1;31mAttributeError\u001b[0m: partially initialized module 'jax' has no attribute 'version' (most likely due to a circular import)"
     ]
    }
   ],
   "source": [
    "import jax.numpy as jnp\n",
    "import jax"
   ]
  },
  {
   "cell_type": "code",
   "execution_count": 105,
   "metadata": {},
   "outputs": [
    {
     "ename": "NameError",
     "evalue": "name 'jax' is not defined",
     "output_type": "error",
     "traceback": [
      "\u001b[1;31m---------------------------------------------------------------------------\u001b[0m",
      "\u001b[1;31mNameError\u001b[0m                                 Traceback (most recent call last)",
      "Cell \u001b[1;32mIn[105], line 7\u001b[0m\n\u001b[0;32m      5\u001b[0m \u001b[39mdef\u001b[39;00m \u001b[39mf_dy\u001b[39m(x,y):\n\u001b[0;32m      6\u001b[0m     \u001b[39mreturn\u001b[39;00m x\u001b[39m*\u001b[39m\u001b[39m*\u001b[39m\u001b[39m2\u001b[39m \u001b[39m+\u001b[39m \u001b[39m3\u001b[39m\u001b[39m*\u001b[39m(y\u001b[39m*\u001b[39m\u001b[39m*\u001b[39m\u001b[39m2\u001b[39m)\u001b[39m*\u001b[39mjnp\u001b[39m.\u001b[39msin(x)\n\u001b[1;32m----> 7\u001b[0m df_dx\u001b[39m=\u001b[39mjax\u001b[39m.\u001b[39mgrad(f,argnums\u001b[39m=\u001b[39m\u001b[39m0\u001b[39m)\n\u001b[0;32m      8\u001b[0m df_dy\u001b[39m=\u001b[39mjax\u001b[39m.\u001b[39mgrad(f,argnums\u001b[39m=\u001b[39m\u001b[39m1\u001b[39m)\n",
      "\u001b[1;31mNameError\u001b[0m: name 'jax' is not defined"
     ]
    }
   ],
   "source": [
    "def f(x,y):\n",
    "    return (x**2)*y + (y**3)*jnp.sin(x)\n",
    "def f_dx(x,y):\n",
    "    return 2*x*y + (y**3)*jnp.cos(x)\n",
    "def f_dy(x,y):\n",
    "    return x**2 + 3*(y**2)*jnp.sin(x)\n",
    "df_dx=jax.grad(f,argnums=0)\n",
    "df_dy=jax.grad(f,argnums=1)"
   ]
  },
  {
   "cell_type": "code",
   "execution_count": null,
   "metadata": {},
   "outputs": [],
   "source": []
  }
 ],
 "metadata": {
  "kernelspec": {
   "display_name": "Python 3.11.0 64-bit",
   "language": "python",
   "name": "python3"
  },
  "language_info": {
   "codemirror_mode": {
    "name": "ipython",
    "version": 3
   },
   "file_extension": ".py",
   "mimetype": "text/x-python",
   "name": "python",
   "nbconvert_exporter": "python",
   "pygments_lexer": "ipython3",
   "version": "3.11.0"
  },
  "orig_nbformat": 4,
  "vscode": {
   "interpreter": {
    "hash": "236178af6f648e00519e077836b3ac634bd3def9b921796a679cc929c64b686e"
   }
  }
 },
 "nbformat": 4,
 "nbformat_minor": 2
}
